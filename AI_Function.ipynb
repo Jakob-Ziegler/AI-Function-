{
  "nbformat": 4,
  "nbformat_minor": 0,
  "metadata": {
    "colab": {
      "provenance": [],
      "authorship_tag": "ABX9TyOjRuWD1sZ3BktCe5AC3thC",
      "include_colab_link": true
    },
    "kernelspec": {
      "name": "python3",
      "display_name": "Python 3"
    },
    "language_info": {
      "name": "python"
    }
  },
  "cells": [
    {
      "cell_type": "markdown",
      "metadata": {
        "id": "view-in-github",
        "colab_type": "text"
      },
      "source": [
        "<a href=\"https://colab.research.google.com/github/Jakob-Ziegler/AI-Function-/blob/main/AI_Function.ipynb\" target=\"_parent\"><img src=\"https://colab.research.google.com/assets/colab-badge.svg\" alt=\"Open In Colab\"/></a>"
      ]
    },
    {
      "cell_type": "code",
      "execution_count": 1,
      "metadata": {
        "colab": {
          "base_uri": "https://localhost:8080/"
        },
        "id": "zhJ1uVY9tDWp",
        "outputId": "04f6b22e-99ee-4e9b-e8dc-9fd3907c3fa7"
      },
      "outputs": [
        {
          "output_type": "stream",
          "name": "stdout",
          "text": [
            "Test Case 1: Increasing trend\n",
            "Increasing trend\n",
            "\n",
            "Test Case 2: Decreasing trend\n",
            "Decreasing trend\n",
            "\n",
            "Test Case 3: No trend (constant series)\n",
            "No significant trend\n",
            "\n",
            "Test Case 4: Random noise\n",
            "No significant trend\n",
            "\n",
            "Test Case 5: Slight increasing trend with noise\n",
            "Increasing trend\n",
            "\n",
            "Test Case 6: Sine wave\n",
            "No significant trend\n",
            "\n",
            "Test Case 7: Simulated AirPassengers data\n",
            "Increasing trend\n"
          ]
        }
      ],
      "source": [
        "import numpy as np\n",
        "import pandas as pd\n",
        "from scipy import stats\n",
        "\n",
        "def detect_trend(time_series):\n",
        "    \"\"\"\n",
        "    Detect Trend in a Time Series\n",
        "\n",
        "    This function analyzes a time series to detect the presence of an increasing or decreasing trend.\n",
        "    It uses a linear regression model to calculate the slope and p-value, and applies thresholds to\n",
        "    distinguish between true trends and minor oscillations or noise.\n",
        "\n",
        "    Parameters:\n",
        "    - time_series (pd.Series): A time series to be analyzed for trend direction.\n",
        "\n",
        "    Returns:\n",
        "    - str: A string indicating the trend direction: \"Increasing trend\", \"Decreasing trend\",\n",
        "      or \"No significant trend\".\n",
        "\n",
        "    Details:\n",
        "    The function fits a linear model to the time series data and extracts the slope and p-value.\n",
        "    It returns an increasing or decreasing trend if the slope is statistically significant (p < 0.05)\n",
        "    and exceeds a specified magnitude threshold (slope_threshold). This helps filter out minor\n",
        "    oscillations or random noise that might otherwise be misinterpreted as trends.\n",
        "\n",
        "    Example Usage:\n",
        "    >>> increasing_series = pd.Series(range(1, 101))\n",
        "    >>> detect_trend(increasing_series)  # Expected output: \"Increasing trend\"\n",
        "    \"\"\"\n",
        "    # Create a time index\n",
        "    time_index = np.arange(len(time_series))\n",
        "\n",
        "    # Perform linear regression\n",
        "    slope, intercept, r_value, p_value, std_err = stats.linregress(time_index, time_series)\n",
        "\n",
        "    # Set a stricter threshold for detecting a trend\n",
        "    slope_threshold = 0.05  # Adjust this based on preference\n",
        "\n",
        "    # Determine trend direction with the stricter thresholds\n",
        "    if p_value < 0.05 and abs(slope) > slope_threshold:\n",
        "        if slope > 0:\n",
        "            return \"Increasing trend\"\n",
        "        else:\n",
        "            return \"Decreasing trend\"\n",
        "    else:\n",
        "        return \"No significant trend\"\n",
        "\n",
        "# Test Cases\n",
        "\n",
        "# Test Case 1: Increasing trend\n",
        "increasing_series = pd.Series(range(1, 101))\n",
        "print(\"Test Case 1: Increasing trend\")\n",
        "print(detect_trend(increasing_series))\n",
        "\n",
        "# Test Case 2: Decreasing trend\n",
        "decreasing_series = pd.Series(range(100, 0, -1))\n",
        "print(\"\\nTest Case 2: Decreasing trend\")\n",
        "print(detect_trend(decreasing_series))\n",
        "\n",
        "# Test Case 3: No trend (constant series)\n",
        "constant_series = pd.Series([50] * 100)\n",
        "print(\"\\nTest Case 3: No trend (constant series)\")\n",
        "print(detect_trend(constant_series))\n",
        "\n",
        "# Test Case 4: Random noise\n",
        "np.random.seed(123)\n",
        "random_series = pd.Series(np.random.normal(size=100))\n",
        "print(\"\\nTest Case 4: Random noise\")\n",
        "print(detect_trend(random_series))\n",
        "\n",
        "# Test Case 5: Slight increasing trend with noise\n",
        "np.random.seed(123)\n",
        "slight_increase_series = pd.Series(range(1, 101) + np.random.normal(0, 10, 100))\n",
        "print(\"\\nTest Case 5: Slight increasing trend with noise\")\n",
        "print(detect_trend(slight_increase_series))\n",
        "\n",
        "# Test Case 6: Sine wave (no overall trend)\n",
        "time_points = np.linspace(0, 2 * np.pi, 100)\n",
        "sine_series = pd.Series(np.sin(time_points))\n",
        "print(\"\\nTest Case 6: Sine wave\")\n",
        "print(detect_trend(sine_series))\n",
        "\n",
        "# Test Case 7: Real-world example (simulating with AirPassengers-like data)\n",
        "# Here, we use a synthetic trend for demonstration purposes.\n",
        "air_passengers_sim = pd.Series(np.linspace(100, 500, 100) + np.random.normal(0, 20, 100))\n",
        "print(\"\\nTest Case 7: Simulated AirPassengers data\")\n",
        "print(detect_trend(air_passengers_sim))\n"
      ]
    }
  ]
}